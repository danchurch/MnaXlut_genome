{
 "cells": [
  {
   "cell_type": "markdown",
   "metadata": {},
   "source": [
    "# Reconstructing a <i>Mimulus naiandinus</i> genome from hybrid genomes"
   ]
  },
  {
   "cell_type": "markdown",
   "metadata": {},
   "source": [
    "## <a id=\"contents\">Table o' contents</a>\n",
    "\n",
    "[Look at read qualities](#read_quality)\n",
    "\n",
    "[Align our reads to the reference genome](#align)\n",
    "\n",
    "[Filtering and Processing alignments](#FandP)\n",
    "  - [Convert SAMs to BAMs](#sam2bam)\n",
    "  - [Reorder alignments to reference](#reorder)\n",
    "  - [DeDuplicate reads](#dedupe)\n",
    "  - [Merging BAM files](#mergeBAM)\n",
    "  - [Indices and dictionaries](#inDic)\n",
    "  - [Validate Merged BAM file](#validateSam)\n",
    "  \n",
    "[Calling variants](#callVars)\n",
    "\n",
    "[Construct a draft <i>M. naiandius </i> genome](#altGenome)\n",
    "\n",
    "[Making a map of genome coverage](#gencov)\n",
    "  - [Make overall coverage map](#bigCov)\n",
    "  - [Subset coverage map to scaffolds of interest](#subScaff)\n",
    "  \n",
    "[Subset <i>M. naiandinus</i> genome to just scaffolds of interest](#subGen)\n",
    "\n",
    "[Spot check: polymorphism in pla2](#spotcheck)"
   ]
  },
  {
   "cell_type": "markdown",
   "metadata": {},
   "source": [
    "## <a id=\"read_quality\">Look at read qualities</a>\n",
    "\n",
    "Let's use fastx tools to take a look at the average read qualities."
   ]
  },
  {
   "cell_type": "code",
   "execution_count": 6,
   "metadata": {},
   "outputs": [],
   "source": [
    "## path to our fastq files\n",
    "fpath='/Users/danthomas/Documents/naiandinus_gen/for_dan/Cooley_3315_160429B1/'"
   ]
  },
  {
   "cell_type": "markdown",
   "metadata": {},
   "source": [
    "Fastx requires that we calculate the statistics first:"
   ]
  },
  {
   "cell_type": "code",
   "execution_count": 5,
   "metadata": {
    "scrolled": true
   },
   "outputs": [
    {
     "name": "stdout",
     "output_type": "stream",
     "text": [
      "/Users/danthomas/Documents/naiandinus_gen/for_dan/Cooley_3315_160429B1/JP-S1_S16_L002_R1_001.fastq\n",
      "/Users/danthomas/Documents/naiandinus_gen/for_dan/Cooley_3315_160429B1/JP-S1_S16_L002_R1_001.fastq done!\n",
      "/Users/danthomas/Documents/naiandinus_gen/for_dan/Cooley_3315_160429B1/JP-S2_S17_L002_R1_001.fastq\n",
      "/Users/danthomas/Documents/naiandinus_gen/for_dan/Cooley_3315_160429B1/JP-S2_S17_L002_R1_001.fastq done!\n",
      "/Users/danthomas/Documents/naiandinus_gen/for_dan/Cooley_3315_160429B1/JP-S3_S18_L002_R1_001.fastq\n",
      "/Users/danthomas/Documents/naiandinus_gen/for_dan/Cooley_3315_160429B1/JP-S3_S18_L002_R1_001.fastq done!\n",
      "/Users/danthomas/Documents/naiandinus_gen/for_dan/Cooley_3315_160429B1/JP-S4_S19_L002_R1_001.fastq\n",
      "/Users/danthomas/Documents/naiandinus_gen/for_dan/Cooley_3315_160429B1/JP-S4_S19_L002_R1_001.fastq done!\n",
      "/Users/danthomas/Documents/naiandinus_gen/for_dan/Cooley_3315_160429B1/JP-S5_S20_L002_R1_001.fastq\n",
      "/Users/danthomas/Documents/naiandinus_gen/for_dan/Cooley_3315_160429B1/JP-S5_S20_L002_R1_001.fastq done!\n",
      "/Users/danthomas/Documents/naiandinus_gen/for_dan/Cooley_3315_160429B1/JP-S6_S21_L002_R1_001.fastq\n",
      "/Users/danthomas/Documents/naiandinus_gen/for_dan/Cooley_3315_160429B1/JP-S6_S21_L002_R1_001.fastq done!\n",
      "/Users/danthomas/Documents/naiandinus_gen/for_dan/Cooley_3315_160429B1/merged.fastq\n",
      "/Users/danthomas/Documents/naiandinus_gen/for_dan/Cooley_3315_160429B1/merged.fastq done!\n"
     ]
    }
   ],
   "source": [
    "for i in $fpath*\"fastq\"\n",
    "do\n",
    "echo $i\n",
    "$ftd\"fastx_quality_stats\" -Q33 -i $i -o $i\"-Stats.txt\"\n",
    "echo $i done!\n",
    "done\n"
   ]
  },
  {
   "cell_type": "markdown",
   "metadata": {},
   "source": [
    "Then graph:"
   ]
  },
  {
   "cell_type": "code",
   "execution_count": 8,
   "metadata": {
    "scrolled": true
   },
   "outputs": [
    {
     "name": "stdout",
     "output_type": "stream",
     "text": [
      "/Users/danthomas/Documents/naiandinus_gen/for_dan/Cooley_3315_160429B1/JP-S1_S16_L002_R1_001.fastq-Stats.txtquality.eps\n",
      "/Users/danthomas/Documents/naiandinus_gen/for_dan/Cooley_3315_160429B1/JP-S2_S17_L002_R1_001.fastq-Stats.txtquality.eps\n",
      "/Users/danthomas/Documents/naiandinus_gen/for_dan/Cooley_3315_160429B1/JP-S3_S18_L002_R1_001.fastq-Stats.txtquality.eps\n",
      "/Users/danthomas/Documents/naiandinus_gen/for_dan/Cooley_3315_160429B1/JP-S4_S19_L002_R1_001.fastq-Stats.txtquality.eps\n",
      "/Users/danthomas/Documents/naiandinus_gen/for_dan/Cooley_3315_160429B1/JP-S5_S20_L002_R1_001.fastq-Stats.txtquality.eps\n",
      "/Users/danthomas/Documents/naiandinus_gen/for_dan/Cooley_3315_160429B1/JP-S6_S21_L002_R1_001.fastq-Stats.txtquality.eps\n",
      "/Users/danthomas/Documents/naiandinus_gen/for_dan/Cooley_3315_160429B1/merged.fastq-Stats.txtquality.eps\n"
     ]
    }
   ],
   "source": [
    "for i in $fpath*Stats.txt; do\n",
    "fastq_quality_boxplot_graph.sh -i $i -o $i\"quality.eps\" -p\n",
    "echo $i\"quality.eps\"\n",
    "done\n"
   ]
  },
  {
   "cell_type": "markdown",
   "metadata": {},
   "source": [
    "What do these look like? Here is our merged file, that has all of the reads:"
   ]
  },
  {
   "cell_type": "markdown",
   "metadata": {},
   "source": [
    "![read_quality](merged.fastq-Stats.txtquality.png)"
   ]
  },
  {
   "cell_type": "markdown",
   "metadata": {},
   "source": [
    "Looks great, high quality reads, with almost no variance. "
   ]
  },
  {
   "cell_type": "markdown",
   "metadata": {},
   "source": [
    "## <a id=\"align\">Align our reads to the reference genome</a>"
   ]
  },
  {
   "cell_type": "markdown",
   "metadata": {},
   "source": [
    "We'll use [bowtie2](http://bowtie-bio.sourceforge.net/bowtie2/index.shtml) to align our reads to our reference genome. The reference genome needs to be indexed in the way that bowtie2 wants, first:"
   ]
  },
  {
   "cell_type": "code",
   "execution_count": 10,
   "metadata": {
    "collapsed": true
   },
   "outputs": [
    {
     "name": "stdout",
     "output_type": "stream",
     "text": [
      "Settings:\n",
      "  Output files: \"Mlu.*.bt2\"\n",
      "  Line rate: 6 (line is 64 bytes)\n",
      "  Lines per side: 1 (side is 64 bytes)\n",
      "  Offset rate: 4 (one in 16)\n",
      "  FTable chars: 10\n",
      "  Strings: unpacked\n",
      "  Max bucket size: default\n",
      "  Max bucket size, sqrt multiplier: default\n",
      "  Max bucket size, len divisor: 4\n",
      "  Difference-cover sample period: 1024\n",
      "  Endianness: little\n",
      "  Actual local endianness: little\n",
      "  Sanity checking: disabled\n",
      "  Assertions: disabled\n",
      "  Random seed: 0\n",
      "  Sizeofs: void*:8, int:4, long:8, size_t:8\n",
      "Input files DNA, FASTA:\n",
      "  /Users/danthomas/Documents/naiandinus_gen/Luteus_genome/Mimulus_luteus.fasta\n",
      "Building a SMALL index\n",
      "Reading reference sizes\n",
      "  Time reading reference sizes: 00:00:09\n",
      "Calculating joined length\n",
      "Writing header\n",
      "Reserving space for joined string\n",
      "Joining reference sequences\n",
      "  Time to join reference sequences: 00:00:04\n",
      "bmax according to bmaxDivN setting: 98519930\n",
      "Using parameters --bmax 73889948 --dcv 1024\n",
      "  Doing ahead-of-time memory usage test\n",
      "  Passed!  Constructing with these parameters: --bmax 73889948 --dcv 1024\n",
      "Constructing suffix-array element generator\n",
      "Building DifferenceCoverSample\n",
      "  Building sPrime\n",
      "  Building sPrimeOrder\n",
      "  V-Sorting samples\n",
      "  V-Sorting samples time: 00:00:08\n",
      "  Allocating rank array\n",
      "  Ranking v-sort output\n",
      "  Ranking v-sort output time: 00:00:03\n",
      "  Invoking Larsson-Sadakane on ranks\n",
      "  Invoking Larsson-Sadakane on ranks time: 00:00:03\n",
      "  Sanity-checking and returning\n",
      "Building samples\n",
      "Reserving space for 12 sample suffixes\n",
      "Generating random suffixes\n",
      "QSorting 12 sample offsets, eliminating duplicates\n",
      "QSorting sample offsets, eliminating duplicates time: 00:00:00\n",
      "Multikey QSorting 12 samples\n",
      "  (Using difference cover)\n",
      "  Multikey QSorting samples time: 00:00:00\n",
      "Calculating bucket sizes\n",
      "Splitting and merging\n",
      "  Splitting and merging time: 00:00:00\n",
      "Avg bucket size: 3.9408e+08 (target: 73889947)\n",
      "Converting suffix-array elements to index image\n",
      "Allocating ftab, absorbFtab\n",
      "Entering Ebwt loop\n",
      "Getting block 1 of 1\n",
      "  No samples; assembling all-inclusive block\n",
      "  Sorting block of length 394079723 for bucket 1\n",
      "  (Using difference cover)\n",
      "  Sorting block time: 00:03:58\n",
      "Returning block of 394079724 for bucket 1\n",
      "Exited Ebwt loop\n",
      "fchr[A]: 0\n",
      "fchr[C]: 128231942\n",
      "fchr[G]: 196999917\n",
      "fchr[T]: 265812832\n",
      "fchr[$]: 394079723\n",
      "Exiting Ebwt::buildToDisk()\n",
      "Returning from initFromVector\n",
      "Wrote 136028617 bytes to primary EBWT file: Mlu.1.bt2\n",
      "Wrote 98519936 bytes to secondary EBWT file: Mlu.2.bt2\n",
      "Re-opening _in1 and _in2 as input streams\n",
      "Returning from Ebwt constructor\n",
      "Headers:\n",
      "    len: 394079723\n",
      "    bwtLen: 394079724\n",
      "    sz: 98519931\n",
      "    bwtSz: 98519931\n",
      "    lineRate: 6\n",
      "    offRate: 4\n",
      "    offMask: 0xfffffff0\n",
      "    ftabChars: 10\n",
      "    eftabLen: 20\n",
      "    eftabSz: 80\n",
      "    ftabLen: 1048577\n",
      "    ftabSz: 4194308\n",
      "    offsLen: 24629983\n",
      "    offsSz: 98519932\n",
      "    lineSz: 64\n",
      "    sideSz: 64\n",
      "    sideBwtSz: 48\n",
      "    sideBwtLen: 192\n",
      "    numSides: 2052499\n",
      "    numLines: 2052499\n",
      "    ebwtTotLen: 131359936\n",
      "    ebwtTotSz: 131359936\n",
      "    color: 0\n",
      "    reverse: 0\n",
      "Total time for call to driver() for forward index: 00:05:25\n",
      "Reading reference sizes\n",
      "  Time reading reference sizes: 00:00:05\n",
      "Calculating joined length\n",
      "Writing header\n",
      "Reserving space for joined string\n",
      "Joining reference sequences\n",
      "  Time to join reference sequences: 00:00:03\n",
      "  Time to reverse reference sequence: 00:00:00\n",
      "bmax according to bmaxDivN setting: 98519930\n",
      "Using parameters --bmax 73889948 --dcv 1024\n",
      "  Doing ahead-of-time memory usage test\n",
      "  Passed!  Constructing with these parameters: --bmax 73889948 --dcv 1024\n",
      "Constructing suffix-array element generator\n",
      "Building DifferenceCoverSample\n",
      "  Building sPrime\n",
      "  Building sPrimeOrder\n",
      "  V-Sorting samples\n",
      "  V-Sorting samples time: 00:00:07\n",
      "  Allocating rank array\n",
      "  Ranking v-sort output\n",
      "  Ranking v-sort output time: 00:00:03\n",
      "  Invoking Larsson-Sadakane on ranks\n",
      "  Invoking Larsson-Sadakane on ranks time: 00:00:03\n",
      "  Sanity-checking and returning\n",
      "Building samples\n",
      "Reserving space for 12 sample suffixes\n",
      "Generating random suffixes\n",
      "QSorting 12 sample offsets, eliminating duplicates\n",
      "QSorting sample offsets, eliminating duplicates time: 00:00:00\n",
      "Multikey QSorting 12 samples\n",
      "  (Using difference cover)\n",
      "  Multikey QSorting samples time: 00:00:00\n",
      "Calculating bucket sizes\n",
      "Splitting and merging\n",
      "  Splitting and merging time: 00:00:00\n",
      "Avg bucket size: 3.9408e+08 (target: 73889947)\n",
      "Converting suffix-array elements to index image\n",
      "Allocating ftab, absorbFtab\n",
      "Entering Ebwt loop\n",
      "Getting block 1 of 1\n",
      "  No samples; assembling all-inclusive block\n",
      "  Sorting block of length 394079723 for bucket 1\n",
      "  (Using difference cover)\n",
      "Traceback (most recent call last):\n",
      "  File \"/usr/local/bin/bowtie2-build\", line 86, in <module>\n",
      "    main()\n",
      "  File \"/usr/local/bin/bowtie2-build\", line 83, in main\n",
      "    subprocess.call(argv)\n",
      "  File \"/Users/danthomas/anaconda3/lib/python3.6/subprocess.py\", line 269, in call\n",
      "    return p.wait(timeout=timeout)\n",
      "  File \"/Users/danthomas/anaconda3/lib/python3.6/subprocess.py\", line 1457, in wait\n",
      "    (pid, sts) = self._try_wait(0)\n",
      "  File \"/Users/danthomas/anaconda3/lib/python3.6/subprocess.py\", line 1404, in _try_wait\n",
      "    (pid, sts) = os.waitpid(self.pid, wait_flags)\n",
      "KeyboardInterrupt\n"
     ]
    }
   ],
   "source": [
    "bowtie2-build -f /Users/danthomas/Documents/naiandinus_gen/Luteus_genome/Mimulus_luteus.fasta Mlu"
   ]
  },
  {
   "cell_type": "markdown",
   "metadata": {},
   "source": [
    "Then we can loop through our fastq files and do alignments against this reference genome. For the moment, we'll do these as individual alignments of the six bins of phenotypes assigned by Arielle and Josh. This results in a sequence alignment map (SAM) for each of the six."
   ]
  },
  {
   "cell_type": "code",
   "execution_count": 11,
   "metadata": {},
   "outputs": [],
   "source": [
    "cd /Users/danthomas/Documents/naiandinus_gen/Luteus_genome\n",
    "\n",
    "for i in $fpath*001.fastq; do\n",
    "    j=$(basename $i)\n",
    "    k=${j/fastq/sam}\n",
    "    bowtie2 --local  -x Mlu -U $i -S /Users/danthomas/Documents/naiandinus_gen/SAM/$k \\\n",
    "done"
   ]
  },
  {
   "cell_type": "markdown",
   "metadata": {},
   "source": [
    "Some output:"
   ]
  },
  {
   "cell_type": "code",
   "execution_count": 23,
   "metadata": {
    "scrolled": true
   },
   "outputs": [
    {
     "name": "stdout",
     "output_type": "stream",
     "text": [
      "56034871 reads; of these:\n",
      "  56034871 (100.00%) were unpaired; of these:\n",
      "    7893494 (14.09%) aligned 0 times\n",
      "    11729089 (20.93%) aligned exactly 1 time\n",
      "    36412288 (64.98%) aligned >1 times\n",
      "85.91% overall alignment rate\n",
      "68049510 reads; of these:\n",
      "  68049510 (100.00%) were unpaired; of these:\n",
      "    7592098 (11.16%) aligned 0 times\n",
      "    14879687 (21.87%) aligned exactly 1 time\n",
      "    45577725 (66.98%) aligned >1 times\n",
      "88.84% overall alignment rate\n",
      "60681218 reads; of these:\n",
      "  60681218 (100.00%) were unpaired; of these:\n",
      "    9222716 (15.20%) aligned 0 times\n",
      "    12679236 (20.89%) aligned exactly 1 time\n",
      "    38779266 (63.91%) aligned >1 times\n",
      "84.80% overall alignment rate\n",
      "55885597 reads; of these:\n",
      "  55885597 (100.00%) were unpaired; of these:\n",
      "    7485075 (13.39%) aligned 0 times\n",
      "    11651355 (20.85%) aligned exactly 1 time\n",
      "    36749167 (65.76%) aligned >1 times\n",
      "86.61% overall alignment rate\n",
      "67627796 reads; of these:\n",
      "  67627796 (100.00%) were unpaired; of these:\n",
      "    15149703 (22.40%) aligned 0 times\n",
      "    13937577 (20.61%) aligned exactly 1 time\n",
      "    38540516 (56.99%) aligned >1 times\n",
      "77.60% overall alignment rate\n",
      "66654520 reads; of these:\n",
      "  66654520 (100.00%) were unpaired; of these:\n",
      "    9078782 (13.62%) aligned 0 times\n",
      "    14502639 (21.76%) aligned exactly 1 time\n",
      "    43073099 (64.62%) aligned >1 times\n",
      "86.38% overall alignment rate\n",
      "\n"
     ]
    }
   ],
   "source": [
    "cat bowtie_log.txt"
   ]
  },
  {
   "cell_type": "markdown",
   "metadata": {},
   "source": [
    "Time for these alignments, as a whole:\n",
    "\n",
    "real    565m3.770s  \n",
    "user    554m22.225s  \n",
    "sys     4m27.857s\n"
   ]
  },
  {
   "cell_type": "markdown",
   "metadata": {},
   "source": [
    "These SAM files look like this, a header that lists out the lengths of our scaffolds, and a body that is a long list of where the various reads were assigned on the reference genome, with a mapq quality score for the confidence in the placement of this read on the reference genome, the quality of the basecalls, other good stuff. More info <a href=\"https://en.wikipedia.org/wiki/SAM_(file_format)\">here</a>."
   ]
  },
  {
   "cell_type": "code",
   "execution_count": 17,
   "metadata": {
    "scrolled": true
   },
   "outputs": [
    {
     "name": "stdout",
     "output_type": "stream",
     "text": [
      "@HD\tVN:1.0\tSO:unsorted\n",
      "@SQ\tSN:lcl|scaffold_32\tLN:817265\n",
      "@SQ\tSN:lcl|scaffold_21\tLN:849581\n",
      "@SQ\tSN:lcl|scaffold_14\tLN:884134\n",
      "@SQ\tSN:lcl|scaffold_37\tLN:783220\n",
      "@SQ\tSN:lcl|scaffold_23\tLN:851886\n",
      "@SQ\tSN:lcl|scaffold_8\tLN:980590\n",
      "@SQ\tSN:lcl|scaffold_9\tLN:976062\n",
      "@SQ\tSN:lcl|scaffold_33\tLN:797088\n",
      "@SQ\tSN:lcl|scaffold_38\tLN:791999\n"
     ]
    }
   ],
   "source": [
    "head JP-S6_S21_L002_R1_001.sam"
   ]
  },
  {
   "cell_type": "code",
   "execution_count": 18,
   "metadata": {
    "scrolled": true
   },
   "outputs": [
    {
     "name": "stdout",
     "output_type": "stream",
     "text": [
      "K00282:27:HC3GVBBXX:2:2228:30959:49194\t0\tlcl|scaffold_606\t126980\t44\t48M3S\t*\t0\t0\tTTGAGCCTTTTGTAGTAGGATTTATGAATTTCTCTGGAGCTTTATTAGACT\tAAFFFJJJJJJJJJJJJJJJJJJJJJJJJJJJJJJJJJJJJJJJJJJJJJJ\tAS:i:96\tXN:i:0\tXM:i:0\tXO:i:0\tXG:i:0\tNM:i:0\tMD:Z:48\tYT:Z:UU\n",
      "K00282:27:HC3GVBBXX:2:2228:31081:49194\t16\tlcl|scaffold_24\t610319\t11\t1S33M1I14M2S\t*\t0\t0\tCCATGTTGGAGTCCGAGTTTTGGAATGTTGCATGAAATAAGAATTGTAGAC\tJJJJJJJJJJJJJJJJJJJJJJJJJJJJJJJJJJJJJJJJJJJJJJFFFAA\tAS:i:78\tXS:i:76\tXN:i:0\tXM:i:1\tXO:i:1\tXG:i:1\tNM:i:2\tMD:Z:30G16\tYT:Z:UU\n",
      "K00282:27:HC3GVBBXX:2:2228:31284:49194\t16\tlcl|scaffold_1046\t13016\t17\t51M\t*\t0\t0\tCCGCGATTTCTCTCGATTTCTAATGCAATACACAAATCAATTGGTTCTGTT\tJJJJJJJJJJJJJJJJJJJJJJJJJJJJJJJJJJJJJJJJJJJJJJFFFAA\tAS:i:94\tXS:i:80\tXN:i:0\tXM:i:1\tXO:i:0\tXG:i:0\tNM:i:1\tMD:Z:24T26\tYT:Z:UU\n",
      "K00282:27:HC3GVBBXX:2:2228:31527:49194\t0\tlcl|scaffold_448\t249337\t31\t51M\t*\t0\t0\tAGTAGCATGGGCTGCAATAAAGGCCCGGTGTCATTGTGTTAATAAAAAATG\tAAFFFJJJJJJJJJJJJ<JJJJJJJJJJJJJJFJJJJJJJJJJJJJJJJJJ\tAS:i:102\tXS:i:94\tXN:i:0\tXM:i:0\tXO:i:0\tXG:i:0\tNM:i:0\tMD:Z:51\tYT:Z:UU\n",
      "K00282:27:HC3GVBBXX:2:2228:31568:49194\t4\t*\t0\t0\t*\t*\t0\t0\tGGATCTTGGGTAGAGACGGGTGATATTTTAGTAGGTAAATTAACGCCCCAA\tAAFFFJJJJJJJJJJJJJJJJJJJJJJJ<JJFAFJFJJJJJJJJJJJJJJJ\tYT:Z:UU\n",
      "K00282:27:HC3GVBBXX:2:2228:31730:49194\t0\tlcl|scaffold_1610\t11334\t44\t51M\t*\t0\t0\tTGGATTATTAATCCAAATTCAATCCAAATTTCAGTTTAAAACTTACTTAAT\tAAAFFJJJJJJJJFJJJJJJJJJFJFFFJJJJJJJJJJJFJJFJJAJJJJJ\tAS:i:102\tXN:i:0\tXM:i:0\tXO:i:0\tXG:i:0\tNM:i:0\tMD:Z:51\tYT:Z:UU\n",
      "K00282:27:HC3GVBBXX:2:2228:31771:49194\t16\tlcl|scaffold_1142\t32734\t1\t51M\t*\t0\t0\tTTGAGTTGTGAGAAACGAGCGAGTAAAGAACTAACGAACTTAAGCTGTTGG\tJJJJJJJJJJJJJJJJJJJJJJJJJJJJJJJJFJ<JJJJJJF7JJJFFFAA\tAS:i:102\tXS:i:102\tXN:i:0\tXM:i:0\tXO:i:0\tXG:i:0\tNM:i:0\tMD:Z:51\tYT:Z:UU\n",
      "K00282:27:HC3GVBBXX:2:2228:32136:49194\t0\tlcl|scaffold_4\t356623\t1\t48M3S\t*\t0\t0\tAATATATTAGTAAATTGGAAAACTACCAACCATTGATGACAACATACAGAC\tAA-FAJJJJJFJFFFFJJFJJJFJJJJJJJJJJ7JJJJJJJJJJJJJJJJJ\tAS:i:80\tXS:i:80\tXN:i:0\tXM:i:2\tXO:i:0\tXG:i:0\tNM:i:2\tMD:Z:5C25T16\tYT:Z:UU\n",
      "K00282:27:HC3GVBBXX:2:2228:32197:49194\t16\tlcl|scaffold_75\t143532\t44\t1S25M1D25M\t*\t0\t0\tTCCTTTCGTATCATTGTGGATGTGAATTGGCTGAATAAAGAGATGAAAGCA\tJJJJJJJJJJJJJJJJJJJJFJJAJJAJJ7FF<JJJJJJJFJJJFJFFFAA\tAS:i:92\tXN:i:0\tXM:i:0\tXO:i:1\tXG:i:1\tNM:i:1\tMD:Z:25^T25\tYT:Z:UU\n",
      "K00282:27:HC3GVBBXX:2:2228:32258:49194\t16\tlcl|scaffold_161\t179975\t44\t3S48M\t*\t0\t0\tTTGTTTCCAATTATTAACAAGAATTTTAAATCTTTATTTCCTGTTTGAGTT\tJJFFJJJJJJJJJJFJJF7JFJJJJFJJJJJJJJJFJJJJJJJJJJFFFAA\tAS:i:96\tXN:i:0\tXM:i:0\tXO:i:0\tXG:i:0\tNM:i:0\tMD:Z:48\tYT:Z:UU\n"
     ]
    }
   ],
   "source": [
    "tail JP-S6_S21_L002_R1_001.sam"
   ]
  },
  {
   "cell_type": "markdown",
   "metadata": {},
   "source": [
    "## <a id=\"FandP\">Filtering and Processing alignments</a>"
   ]
  },
  {
   "cell_type": "markdown",
   "metadata": {},
   "source": [
    "Before calling our variants (places where our new genomes are different from the reference), we've got some cleanup to do to our new alignments."
   ]
  },
  {
   "cell_type": "markdown",
   "metadata": {},
   "source": [
    "### <a id=\"sam2bam\">Convert SAMs to BAMs</a>"
   ]
  },
  {
   "cell_type": "markdown",
   "metadata": {},
   "source": [
    "For downstream work, we'll work with compressed SAM files, called BAM files. We'll use <a href=\"http://www.htslib.org\">Samtools</a> for this and other tasks."
   ]
  },
  {
   "cell_type": "code",
   "execution_count": 25,
   "metadata": {
    "scrolled": false
   },
   "outputs": [
    {
     "name": "stdout",
     "output_type": "stream",
     "text": [
      "JP-S1_S16_L002_R1_001.sam\n",
      "JP-S2_S17_L002_R1_001.sam\n",
      "JP-S3_S18_L002_R1_001.sam\n",
      "JP-S4_S19_L002_R1_001.sam\n",
      "JP-S5_S20_L002_R1_001.sam\n",
      "JP-S6_S21_L002_R1_001.sam\n"
     ]
    }
   ],
   "source": [
    "cd /Users/danthomas/Documents/naiandinus_gen/SAM\n",
    "\n",
    "for i in *sam; do\n",
    "    time samtools view $i -bS > ./BAM/${i/sam/bam} && \\\n",
    "    echo $i\n",
    "done"
   ]
  },
  {
   "cell_type": "markdown",
   "metadata": {},
   "source": [
    "## <a id=\"reorder\">Reorder alignments to reference</a>"
   ]
  },
  {
   "cell_type": "markdown",
   "metadata": {},
   "source": [
    "It's also necessary to sort the alignments in the order they appear on the reference genome. <a href=\"https://broadinstitute.github.io/picard/\">Picard</a> tools are useful here. "
   ]
  },
  {
   "cell_type": "code",
   "execution_count": null,
   "metadata": {},
   "outputs": [],
   "source": [
    "cd /Users/danthomas/Documents/naiandinus_gen/BAM\n",
    "\n",
    "for i in *\n",
    "do \n",
    "    output=\"sortedBAM/\"${i/.bam/.sorted.bam}\n",
    "    picard SortSam I=$i O=$output SORT_ORDER=coordinate && \\\n",
    "    ls $i\n",
    "done"
   ]
  },
  {
   "cell_type": "markdown",
   "metadata": {},
   "source": [
    "## <a id=\"dedupe\">DeDuplicate reads</a>"
   ]
  },
  {
   "cell_type": "markdown",
   "metadata": {},
   "source": [
    "We can also use Picard tools to remove duplicate reads. This has been recommended to me, and it's discussed <a href=\"https://broadinstitute.github.io/picard/command-line-overview.html#MarkDuplicates\">here</a>. \n",
    "\n",
    "I'm a little unclear on this. I can see why removing duplicates is handy.  Dereplicating the redundant information in duplicates makes sense as far as computational expense. But the explanation in picard's manual implies that all duplicates are erroroneous reads, either from bench preps or the cameras of the sequencers - how can this be true? Presumably the same digestion site occurs several times, gets sequenced? Maybe the sites of digestion are random, so it is really unlikely that a sequence would happen twice. If duplicate reads are real (can they be?) aren't we losing converage by removing them?\n",
    "\n",
    "Not sure, anyway, just following orders like a good scientist..."
   ]
  },
  {
   "cell_type": "code",
   "execution_count": null,
   "metadata": {},
   "outputs": [],
   "source": [
    "## home for our deduplicated maps:\n",
    "ddm=\"/Users/danthomas/Documents/naiandinus_gen/BAM/dmBAM/\"\n",
    "\n",
    "cd /Users/danthomas/Documents/naiandinus_gen/BAM/sortedBAM\n",
    "\n",
    "for i in *\n",
    "do\n",
    "    output=${i/.sorted.bam/.MD.bam}\n",
    "    echo $output\n",
    "    picard MarkDuplicates \\\n",
    "        I=$i \\\n",
    "        O=$ddm$output \\\n",
    "        M=$output.metrics.txt \\\n",
    "        REMOVE_DUPLICATES=true \\\n",
    "        MAX_FILE_HANDLES_FOR_READ_ENDS_MAP=256 && echo $i\n",
    "done\n"
   ]
  },
  {
   "cell_type": "markdown",
   "metadata": {},
   "source": [
    "We got the last input by asking our computer what kind of load it can handle at the moment, in terms of number of files:"
   ]
  },
  {
   "cell_type": "code",
   "execution_count": 28,
   "metadata": {},
   "outputs": [
    {
     "name": "stdout",
     "output_type": "stream",
     "text": [
      "256\n"
     ]
    }
   ],
   "source": [
    "ulimit -n "
   ]
  },
  {
   "cell_type": "markdown",
   "metadata": {},
   "source": [
    "### <a id=\"readGroups\">Adding read group information to reads</a>"
   ]
  },
  {
   "cell_type": "markdown",
   "metadata": {},
   "source": [
    "We're going to merge all of 6 of the genomes, that were binned by phenotype, for the variant calls. Before we do this, we want to retain the information about what phenotype a given read came from. In the fastq files and SAM/BAM files, this information is encoded in the read name. But from here this information is tracked as part of the \"RG\" info, or read group information, in the merged BAM file. Picard tools again:"
   ]
  },
  {
   "cell_type": "code",
   "execution_count": null,
   "metadata": {},
   "outputs": [],
   "source": [
    "cd /Users/danthomas/Documents/naiandinus_gen/BAM/dmBAM\n",
    "\n",
    "rgBAMs=\"/Users/danthomas/Documents/naiandinus_gen/BAM/rgBAM/\"\n",
    "\n",
    "touch $rgBAMs\"rglog.txt\"\n",
    "\n",
    "for i in *; do\n",
    "    echo $i >> $rgBAMs\"rglog.txt\"\n",
    "    SM=$(echo $i | sed \"s/.*_S/S/g\" | sed \"s/_L.*//g\")\n",
    "    output=$rgBAMs${i/.MD.bam/.RG.bam}\n",
    "    picard AddOrReplaceReadGroups  I=$i  O=$output  RGPL=illumina  RGPU=indexSEQ  RGID=27  RGLB=A_Library  RGSM=$SM\n",
    "    echo $output >> $rgBAMs\"rglog.txt\"\n",
    "done\n"
   ]
  },
  {
   "cell_type": "markdown",
   "metadata": {},
   "source": [
    "### <a id=\"mergeBAM\">Merging BAM files</a>"
   ]
  },
  {
   "cell_type": "markdown",
   "metadata": {},
   "source": [
    "Let's put these six genomes together into a single alignment, which we'll then use to look for areas of difference between our pooled F2 hybrids and the <i>Mimulus luteus</i> genome. "
   ]
  },
  {
   "cell_type": "code",
   "execution_count": 1,
   "metadata": {},
   "outputs": [],
   "source": [
    "cd /Users/danthomas/Documents/naiandinus_gen/BAM/rgBAM\n",
    "\n",
    "for i in *; do\n",
    "    ins=\"$ins $i\"\n",
    "done\n",
    "\n",
    "#echo $ins\n",
    "\n",
    "samtools merge Mll_x_MN.merged.bam $ins"
   ]
  },
  {
   "cell_type": "markdown",
   "metadata": {},
   "source": [
    "### <a id=\"inDic\">Indices and dictionaries</a>"
   ]
  },
  {
   "cell_type": "markdown",
   "metadata": {},
   "source": [
    "We're almost ready to call the variants. The final step is create a Samtools index for both our merged BAM file and our reference genome, and create a dictionary of reference sequences using Picard tools:"
   ]
  },
  {
   "cell_type": "code",
   "execution_count": null,
   "metadata": {},
   "outputs": [],
   "source": [
    "## shortcut to reference genome fasta\n",
    "genome=\"/Users/danthomas/Documents/naiandinus_gen/Luteus_genome/Mimulus_luteus.fasta\"\n",
    "\n",
    "cd /Users/danthomas/Documents/naiandinus_gen/Luteus_genome/\n",
    "\n",
    "## make dictionary of reference sequences\n",
    "picard CreateSequenceDictionary REFERENCE=$genome OUTPUT=Mimulus_luteus.dict\n",
    "\n",
    "## use make a samtools-type index\n",
    "samtools faidx Mimulus_luteus.fasta\n",
    "\n",
    "faidx=\"/Users/danthomas/Documents/naiandinus_gen/Luteus_genome/Mimulus_luteus.fasta.fai\"\n",
    "\n",
    "## index our bam file\n",
    "\n",
    "cd /Users/danthomas/Documents/naiandinus_gen/BAM/\n",
    "\n",
    "samtools index /Users/danthomas/Documents/naiandinus_gen/BAM/Mll_x_MN.merged.bam"
   ]
  },
  {
   "cell_type": "markdown",
   "metadata": {},
   "source": [
    "### <a id=\"validateSam\">Validate Merged BAM file</a>"
   ]
  },
  {
   "cell_type": "markdown",
   "metadata": {},
   "source": [
    "We can check to make sure that we haven't screwed things up too badly with Picard's <a href=\"https://broadinstitute.github.io/picard/command-line-overview.html#ValidateSamFile\">ValidateSamFile</a>:"
   ]
  },
  {
   "cell_type": "code",
   "execution_count": 2,
   "metadata": {
    "scrolled": true
   },
   "outputs": [
    {
     "name": "stdout",
     "output_type": "stream",
     "text": [
      "15:05:56.235 INFO  NativeLibraryLoader - Loading libgkl_compression.dylib from jar:file:/usr/local/Cellar/picard-tools/2.18.2/libexec/picard.jar!/com/intel/gkl/native/libgkl_compression.dylib\n",
      "[Wed May 02 15:05:56 PDT 2018] ValidateSamFile INPUT=/Users/danthomas/Documents/naiandinus_gen/BAM/Mll_x_MN.merged.bam MODE=SUMMARY    MAX_OUTPUT=100 IGNORE_WARNINGS=false VALIDATE_INDEX=true INDEX_VALIDATION_STRINGENCY=EXHAUSTIVE IS_BISULFITE_SEQUENCED=false MAX_OPEN_TEMP_FILES=8000 SKIP_MATE_VALIDATION=false VERBOSITY=INFO QUIET=false VALIDATION_STRINGENCY=STRICT COMPRESSION_LEVEL=5 MAX_RECORDS_IN_RAM=500000 CREATE_INDEX=false CREATE_MD5_FILE=false GA4GH_CLIENT_SECRETS=client_secrets.json USE_JDK_DEFLATER=false USE_JDK_INFLATER=false\n",
      "[Wed May 02 15:05:56 PDT 2018] Executing as danthomas@wks-14-199 on Mac OS X 10.12.6 x86_64; Java HotSpot(TM) 64-Bit Server VM 1.8.0_144-b01; Deflater: Intel; Inflater: Intel; Provider GCS is not available; Picard version: 2.18.2-SNAPSHOT\n",
      "INFO\t2018-05-02 15:06:22\tSamFileValidator\tValidated Read    10,000,000 records.  Elapsed time: 00:00:25s.  Time for last 10,000,000:   25s.  Last read position: lcl|scaffold_47:524,805\n",
      "INFO\t2018-05-02 15:06:47\tSamFileValidator\tValidated Read    20,000,000 records.  Elapsed time: 00:00:50s.  Time for last 10,000,000:   24s.  Last read position: lcl|scaffold_99:373,647\n",
      "INFO\t2018-05-02 15:07:11\tSamFileValidator\tValidated Read    30,000,000 records.  Elapsed time: 00:01:14s.  Time for last 10,000,000:   24s.  Last read position: lcl|scaffold_190:302,087\n",
      "INFO\t2018-05-02 15:07:36\tSamFileValidator\tValidated Read    40,000,000 records.  Elapsed time: 00:01:39s.  Time for last 10,000,000:   24s.  Last read position: lcl|scaffold_277:285,089\n",
      "INFO\t2018-05-02 15:08:01\tSamFileValidator\tValidated Read    50,000,000 records.  Elapsed time: 00:02:04s.  Time for last 10,000,000:   24s.  Last read position: lcl|scaffold_419:141,167\n",
      "INFO\t2018-05-02 15:08:26\tSamFileValidator\tValidated Read    60,000,000 records.  Elapsed time: 00:02:29s.  Time for last 10,000,000:   25s.  Last read position: lcl|scaffold_515:249,301\n",
      "INFO\t2018-05-02 15:08:51\tSamFileValidator\tValidated Read    70,000,000 records.  Elapsed time: 00:02:54s.  Time for last 10,000,000:   24s.  Last read position: lcl|scaffold_694:42,580\n",
      "INFO\t2018-05-02 15:09:15\tSamFileValidator\tValidated Read    80,000,000 records.  Elapsed time: 00:03:19s.  Time for last 10,000,000:   24s.  Last read position: lcl|scaffold_920:51,579\n",
      "INFO\t2018-05-02 15:09:40\tSamFileValidator\tValidated Read    90,000,000 records.  Elapsed time: 00:03:43s.  Time for last 10,000,000:   24s.  Last read position: lcl|scaffold_1181:44,930\n",
      "INFO\t2018-05-02 15:10:05\tSamFileValidator\tValidated Read   100,000,000 records.  Elapsed time: 00:04:08s.  Time for last 10,000,000:   24s.  Last read position: lcl|scaffold_1616:18,418\n",
      "INFO\t2018-05-02 15:10:29\tSamFileValidator\tValidated Read   110,000,000 records.  Elapsed time: 00:04:33s.  Time for last 10,000,000:   24s.  Last read position: lcl|scaffold_3012:1,380\n",
      "INFO\t2018-05-02 15:10:50\tSamFileValidator\tValidated Read   120,000,000 records.  Elapsed time: 00:04:53s.  Time for last 10,000,000:   20s.  Last read position: */*\n",
      "INFO\t2018-05-02 15:11:08\tSamFileValidator\tValidated Read   130,000,000 records.  Elapsed time: 00:05:11s.  Time for last 10,000,000:   17s.  Last read position: */*\n",
      "INFO\t2018-05-02 15:11:26\tSamFileValidator\tValidated Read   140,000,000 records.  Elapsed time: 00:05:29s.  Time for last 10,000,000:   18s.  Last read position: */*\n",
      "INFO\t2018-05-02 15:11:44\tSamFileValidator\tValidated Read   150,000,000 records.  Elapsed time: 00:05:47s.  Time for last 10,000,000:   17s.  Last read position: */*\n",
      "INFO\t2018-05-02 15:12:01\tSamFileValidator\tValidated Read   160,000,000 records.  Elapsed time: 00:06:05s.  Time for last 10,000,000:   17s.  Last read position: */*\n",
      "INFO\t2018-05-02 15:12:19\tSamFileValidator\tValidated Read   170,000,000 records.  Elapsed time: 00:06:23s.  Time for last 10,000,000:   18s.  Last read position: */*\n",
      "No errors found\n",
      "[Wed May 02 15:13:37 PDT 2018] picard.sam.ValidateSamFile done. Elapsed time: 7.69 minutes.\n",
      "Runtime.totalMemory()=173015040\n"
     ]
    }
   ],
   "source": [
    "## shortcut to the merged BAM file:\n",
    "merged=\"/Users/danthomas/Documents/naiandinus_gen/BAM/Mll_x_MN.merged.bam\"\n",
    "\n",
    "picard ValidateSamFile I=$merged MODE=SUMMARY"
   ]
  },
  {
   "cell_type": "markdown",
   "metadata": {},
   "source": [
    "No errors found, onward."
   ]
  },
  {
   "cell_type": "markdown",
   "metadata": {},
   "source": [
    "## <a id=\"callVars\">Calling variants</a>"
   ]
  },
  {
   "cell_type": "markdown",
   "metadata": {},
   "source": [
    "So now we're to examine differences between our alignment of our hybrid genomes and the reference genome. We'll do this with the <a href=\"https://software.broadinstitute.org/gatk/documentation/tooldocs/current/org_broadinstitute_hellbender_tools_walkers_haplotypecaller_HaplotypeCaller.php\">HaplotypeCaller</a> from the <a href=\"https://software.broadinstitute.org/gatk/\">GATK</a> toolset. \n",
    "\n",
    "For the moment, we'll use the default settings:"
   ]
  },
  {
   "cell_type": "code",
   "execution_count": null,
   "metadata": {},
   "outputs": [],
   "source": [
    "genome=\"/Users/danthomas/Documents/naiandinus_gen/Luteus_genome/Mimulus_luteus.fasta\"\n",
    "merged=\"/Users/danthomas/Documents/naiandinus_gen/BAM/Mll_x_MN.merged.bam\"\n",
    "out=\"/Users/danthomas/Documents/naiandinus_gen/Mll_x_MN.merged.ver0.1.vcf\"\n",
    "\n",
    "\n",
    "GATK HaplotypeCaller \\\n",
    "    -R $genome \\\n",
    "    -I $merged \\\n",
    "    -O $out"
   ]
  },
  {
   "cell_type": "markdown",
   "metadata": {},
   "source": [
    "So this gives a variant call file (.vcf), which is a list of all the spots where the haplotyper found what it considers statistically significant differences between the BAM alignment we constructed from our reads, and the reference genome that we used for the alignment. \n",
    "\n",
    "The headers have information on the settings and the formats of the output, and a list of scaffolds. Looks like this:"
   ]
  },
  {
   "cell_type": "code",
   "execution_count": 4,
   "metadata": {
    "scrolled": true
   },
   "outputs": [
    {
     "name": "stdout",
     "output_type": "stream",
     "text": [
      "##fileformat=VCFv4.2\n",
      "##FILTER=<ID=LowQual,Description=\"Low quality\">\n",
      "##FORMAT=<ID=AD,Number=R,Type=Integer,Description=\"Allelic depths for the ref and alt alleles in the order listed\">\n",
      "##FORMAT=<ID=DP,Number=1,Type=Integer,Description=\"Approximate read depth (reads with MQ=255 or with bad mates are filtered)\">\n",
      "##FORMAT=<ID=GQ,Number=1,Type=Integer,Description=\"Genotype Quality\">\n",
      "##FORMAT=<ID=GT,Number=1,Type=String,Description=\"Genotype\">\n",
      "##FORMAT=<ID=PL,Number=G,Type=Integer,Description=\"Normalized, Phred-scaled likelihoods for genotypes as defined in the VCF specification\">\n",
      "##GATKCommandLine=<ID=HaplotypeCaller,CommandLine=\"HaplotypeCaller  --output /Users/danthomas/Documents/naiandinus_gen/Mll_x_MN.merged.ver0.1.vcf --input /Users/danthomas/Documents/naiandinus_gen/BAM/Mll_x_MN.merged.bam --reference /Users/danthomas/Documents/naiandinus_gen/Luteus_genome/Mimulus_luteus.fasta  --annotation-group StandardAnnotation --annotation-group StandardHCAnnotation --disable-tool-default-annotations false --emit-ref-confidence NONE --gvcf-gq-bands 1 --gvcf-gq-bands 2 --gvcf-gq-bands 3 --gvcf-gq-bands 4 --gvcf-gq-bands 5 --gvcf-gq-bands 6 --gvcf-gq-bands 7 --gvcf-gq-bands 8 --gvcf-gq-bands 9 --gvcf-gq-bands 10 --gvcf-gq-bands 11 --gvcf-gq-bands 12 --gvcf-gq-bands 13 --gvcf-gq-bands 14 --gvcf-gq-bands 15 --gvcf-gq-bands 16 --gvcf-gq-bands 17 --gvcf-gq-bands 18 --gvcf-gq-bands 19 --gvcf-gq-bands 20 --gvcf-gq-bands 21 --gvcf-gq-bands 22 --gvcf-gq-bands 23 --gvcf-gq-bands 24 --gvcf-gq-bands 25 --gvcf-gq-bands 26 --gvcf-gq-bands 27 --gvcf-gq-bands 28 --gvcf-gq-bands 29 --gvcf-gq-bands 30 --gvcf-gq-bands 31 --gvcf-gq-bands 32 --gvcf-gq-bands 33 --gvcf-gq-bands 34 --gvcf-gq-bands 35 --gvcf-gq-bands 36 --gvcf-gq-bands 37 --gvcf-gq-bands 38 --gvcf-gq-bands 39 --gvcf-gq-bands 40 --gvcf-gq-bands 41 --gvcf-gq-bands 42 --gvcf-gq-bands 43 --gvcf-gq-bands 44 --gvcf-gq-bands 45 --gvcf-gq-bands 46 --gvcf-gq-bands 47 --gvcf-gq-bands 48 --gvcf-gq-bands 49 --gvcf-gq-bands 50 --gvcf-gq-bands 51 --gvcf-gq-bands 52 --gvcf-gq-bands 53 --gvcf-gq-bands 54 --gvcf-gq-bands 55 --gvcf-gq-bands 56 --gvcf-gq-bands 57 --gvcf-gq-bands 58 --gvcf-gq-bands 59 --gvcf-gq-bands 60 --gvcf-gq-bands 70 --gvcf-gq-bands 80 --gvcf-gq-bands 90 --gvcf-gq-bands 99 --indel-size-to-eliminate-in-ref-model 10 --use-alleles-trigger false --disable-optimizations false --just-determine-active-regions false --dont-genotype false --dont-trim-active-regions false --max-disc-ar-extension 25 --max-gga-ar-extension 300 --padding-around-indels 150 --padding-around-snps 20 --kmer-size 10 --kmer-size 25 --dont-increase-kmer-sizes-for-cycles false --allow-non-unique-kmers-in-ref false --num-pruning-samples 1 --recover-dangling-heads false --do-not-recover-dangling-branches false --min-dangling-branch-length 4 --consensus false --max-num-haplotypes-in-population 128 --error-correct-kmers false --min-pruning 2 --debug-graph-transformations false --kmer-length-for-read-error-correction 25 --min-observations-for-kmer-to-be-solid 20 --likelihood-calculation-engine PairHMM --base-quality-score-threshold 18 --pair-hmm-gap-continuation-penalty 10 --pair-hmm-implementation FASTEST_AVAILABLE --pcr-indel-model CONSERVATIVE --phred-scaled-global-read-mismapping-rate 45 --native-pair-hmm-threads 4 --native-pair-hmm-use-double-precision false --debug false --use-filtered-reads-for-annotations false --bam-writer-type CALLED_HAPLOTYPES --dont-use-soft-clipped-bases false --capture-assembly-failure-bam false --error-correct-reads false --do-not-run-physical-phasing false --min-base-quality-score 10 --smith-waterman JAVA --use-new-qual-calculator false --annotate-with-num-discovered-alleles false --heterozygosity 0.001 --indel-heterozygosity 1.25E-4 --heterozygosity-stdev 0.01 --standard-min-confidence-threshold-for-calling 10.0 --max-alternate-alleles 6 --max-genotype-count 1024 --sample-ploidy 2 --genotyping-mode DISCOVERY --contamination-fraction-to-filter 0.0 --output-mode EMIT_VARIANTS_ONLY --all-site-pls false --min-assembly-region-size 50 --max-assembly-region-size 300 --assembly-region-padding 100 --max-reads-per-alignment-start 50 --active-probability-threshold 0.002 --max-prob-propagation-distance 50 --interval-set-rule UNION --interval-padding 0 --interval-exclusion-padding 0 --interval-merging-rule ALL --read-validation-stringency SILENT --seconds-between-progress-updates 10.0 --disable-sequence-dictionary-validation false --create-output-bam-index true --create-output-bam-md5 false --create-output-variant-index true --create-output-variant-md5 false --lenient false --add-output-sam-program-record true --add-output-vcf-command-line true --cloud-prefetch-buffer 40 --cloud-index-prefetch-buffer -1 --disable-bam-index-caching false --help false --version false --showHidden false --verbosity INFO --QUIET false --use-jdk-deflater false --use-jdk-inflater false --gcs-max-retries 20 --disable-tool-default-read-filters false --minimum-mapping-quality 20\",Version=4.0.3.0,Date=\"April 20, 2018 12:30:02 PM PDT\">\n",
      "##INFO=<ID=AC,Number=A,Type=Integer,Description=\"Allele count in genotypes, for each ALT allele, in the same order as listed\">\n",
      "##INFO=<ID=AF,Number=A,Type=Float,Description=\"Allele Frequency, for each ALT allele, in the same order as listed\">\n"
     ]
    }
   ],
   "source": [
    "vcf=\"/Users/danthomas/Documents/naiandinus_gen/Mll_x_MN.merged.ver0.1.vcf\"\n",
    "head $vcf"
   ]
  },
  {
   "cell_type": "markdown",
   "metadata": {},
   "source": [
    "The rest of the document is a list of differences. The GATK folks do a good job on explaining how to read these <a href=\"https://gatkforums.broadinstitute.org/gatk/discussion/1268/what-is-a-vcf-and-how-should-i-interpret-it\">here</a>. "
   ]
  },
  {
   "cell_type": "code",
   "execution_count": 5,
   "metadata": {
    "scrolled": false
   },
   "outputs": [
    {
     "name": "stdout",
     "output_type": "stream",
     "text": [
      "##contig=<ID=lcl|scaffold_35,length=785883>\n",
      "##contig=<ID=lcl|scaffold_896,length=153320>\n",
      "##contig=<ID=lcl|scaffold_280,length=352622>\n",
      "##contig=<ID=lcl|scaffold_1160,length=116697>\n",
      "##source=HaplotypeCaller\n",
      "#CHROM\tPOS\tID\tREF\tALT\tQUAL\tFILTER\tINFO\tFORMAT\tS16\tS17\tS18\tS19\tS20\tS21\n",
      "lcl|scaffold_32\t209\t.\tG\tA\t210.56\t.\tAC=5;AF=0.417;AN=12;BaseQRankSum=0.340;ClippingRankSum=0.000;DP=20;ExcessHet=9.1645;FS=2.171;MLEAC=5;MLEAF=0.417;MQ=44.00;MQRankSum=0.000;QD=26.32;ReadPosRankSum=0.996;SOR=0.528\tGT:AD:DP:GQ:PL\t0/1:1,1:2:39:39,0,40\t0/0:2,0:2:6:0,6,92\t0/1:3,1:4:33:33,0,106\t0/1:3,1:4:33:33,0,124\t0/1:1,2:3:33:81,0,33\t0/1:3,2:5:62:62,0,118\n",
      "lcl|scaffold_32\t340\t.\tT\tC\t285.29\t.\tAC=6;AF=0.600;AN=10;BaseQRankSum=0.728;ClippingRankSum=0.000;DP=15;ExcessHet=7.2016;FS=0.000;MLEAC=6;MLEAF=0.600;MQ=44.00;MQRankSum=0.000;QD=25.36;ReadPosRankSum=-0.642;SOR=1.061\tGT:AD:DP:GQ:PL\t1/1:0,2:2:6:90,6,0\t0/1:2,1:3:36:36,0,81\t./.\t0/1:1,3:4:24:123,0,24\t0/1:1,1:2:38:38,0,39\t0/1:3,1:4:33:33,0,123\n",
      "lcl|scaffold_32\t385\t.\tC\tA\t162.28\t.\tAC=3;AF=0.375;AN=8;BaseQRankSum=0.032;ClippingRankSum=0.000;DP=13;ExcessHet=5.4407;FS=2.398;MLEAC=3;MLEAF=0.375;MQ=42.79;MQRankSum=-3.164;QD=32.46;ReadPosRankSum=-1.600;SOR=0.674\tGT:AD:DP:GQ:PL\t0/0:3,0:3:9:0,9,135\t./.\t0/1:1,1:2:39:39,0,39\t0/1:2,1:3:36:36,0,81\t./.\t0/1:2,3:5:75:120,0,75\n",
      "lcl|scaffold_32\t386\t.\tC\tT\t162.28\t.\tAC=3;AF=0.375;AN=8;BaseQRankSum=-0.293;ClippingRankSum=0.000;DP=13;ExcessHet=5.4407;FS=2.398;MLEAC=3;MLEAF=0.375;MQ=42.79;MQRankSum=-3.164;QD=32.46;ReadPosRankSum=-1.783;SOR=0.674\tGT:AD:DP:GQ:PL\t0/0:3,0:3:9:0,9,135\t./.\t0/1:1,1:2:39:39,0,39\t0/1:2,1:3:36:36,0,81\t./.\t0/1:2,3:5:75:120,0,75\n",
      "lcl|scaffold_32\t420\t.\tC\tT\t110.50\t.\tAC=3;AF=0.300;AN=10;BaseQRankSum=-1.423;ClippingRankSum=0.000;DP=14;ExcessHet=4.7712;FS=6.421;MLEAC=3;MLEAF=0.300;MQ=43.44;MQRankSum=1.282;QD=28.73;ReadPosRankSum=1.276;SOR=2.621\tGT:AD:DP:GQ:PL\t0/1:2,1:3:36:36,0,81\t0/0:1,0:1:3:0,3,45\t./.\t0/1:2,1:3:28:28,0,81\t0/1:1,2:3:36:81,0,36\t0/0:4,0:4:12:0,12,180\n"
     ]
    }
   ],
   "source": [
    "grep CHROM $vcf -A 5 -B 5"
   ]
  },
  {
   "cell_type": "markdown",
   "metadata": {},
   "source": [
    "## <a id=\"altGenome\">Construct a draft <i>M. naiandius </i> genome</a>"
   ]
  },
  {
   "cell_type": "markdown",
   "metadata": {},
   "source": [
    "We now want to take these differences that we've found, and place them onto the skeleton of the reference genome. This is a less than perfect method, it assumes that everywhere a statistically significant difference was not found, the <i> M. naiandinus</i> has the same sequence info as the reference genome of <i>M. luteus</i>. More discussion on this below. \n",
    "\n",
    "We'll use [FastaAlternateReferenceMaker](https://software.broadinstitute.org/gatk/documentation/tooldocs/3.8-0/org_broadinstitute_gatk_tools_walkers_fasta_FastaAlternateReferenceMaker.php), a tool from GATK. From cruising the forums it seems like this is the most popular tool for this kind of thing, but it has not yet been ported over to the newest version of the GATK tools (4.x). It was in the last generation of GATK 3.8 tools, so I had install it from their [archives](https://software.broadinstitute.org/gatk/download/archive). "
   ]
  },
  {
   "cell_type": "code",
   "execution_count": 6,
   "metadata": {
    "scrolled": true
   },
   "outputs": [
    {
     "name": "stdout",
     "output_type": "stream",
     "text": [
      "INFO  15:59:45,824 HelpFormatter - ------------------------------------------------------------------------------------ \n",
      "INFO  15:59:45,845 HelpFormatter - The Genome Analysis Toolkit (GATK) v3.8-1-0-gf15c1c3ef, Compiled 2018/02/19 05:43:50 \n",
      "INFO  15:59:45,845 HelpFormatter - Copyright (c) 2010-2016 The Broad Institute \n",
      "INFO  15:59:45,845 HelpFormatter - For support and documentation go to https://software.broadinstitute.org/gatk \n",
      "INFO  15:59:45,845 HelpFormatter - [Wed May 02 15:59:45 PDT 2018] Executing on Mac OS X 10.12.6 x86_64 \n",
      "INFO  15:59:45,845 HelpFormatter - Java HotSpot(TM) 64-Bit Server VM 1.8.0_144-b01 \n",
      "INFO  15:59:45,849 HelpFormatter - Program Args: -T FastaAlternateReferenceMaker -R /Users/danthomas/Documents/naiandinus_gen/Luteus_genome/Mimulus_luteus.fasta -o /Users/danthomas/Documents/naiandinus_gen/Mn_v0.1.fasta -V /Users/danthomas/Documents/naiandinus_gen/Mll_x_MN.merged.ver0.1.vcf \n",
      "INFO  15:59:45,909 HelpFormatter - Executing as danthomas@wks-14-199 on Mac OS X 10.12.6 x86_64; Java HotSpot(TM) 64-Bit Server VM 1.8.0_144-b01. \n",
      "INFO  15:59:45,910 HelpFormatter - Date/Time: 2018/05/02 15:59:45 \n",
      "INFO  15:59:45,910 HelpFormatter - ------------------------------------------------------------------------------------ \n",
      "INFO  15:59:45,910 HelpFormatter - ------------------------------------------------------------------------------------ \n",
      "INFO  15:59:46,015 NativeLibraryLoader - Loading libgkl_compression.dylib from jar:file:/usr/local/Cellar/GenomeAnalysisTK-3.8/GenomeAnalysisTK.jar!/com/intel/gkl/native/libgkl_compression.dylib \n",
      "INFO  15:59:46,121 GenomeAnalysisEngine - Deflater: IntelDeflater \n",
      "INFO  15:59:46,122 GenomeAnalysisEngine - Inflater: IntelInflater \n",
      "INFO  15:59:46,122 GenomeAnalysisEngine - Strictness is SILENT \n",
      "INFO  15:59:50,700 GenomeAnalysisEngine - Downsampling Settings: Method: BY_SAMPLE, Target Coverage: 1000 \n",
      "INFO  15:59:55,270 GenomeAnalysisEngine - Preparing for traversal \n",
      "INFO  15:59:55,281 GenomeAnalysisEngine - Done preparing for traversal \n",
      "INFO  15:59:55,282 ProgressMeter - [INITIALIZATION COMPLETE; STARTING PROCESSING] \n",
      "INFO  15:59:55,282 ProgressMeter -                 | processed |    time |    per 1M |           |   total | remaining \n",
      "INFO  15:59:55,282 ProgressMeter -        Location |     sites | elapsed |     sites | completed | runtime |   runtime \n",
      "INFO  16:00:25,352 ProgressMeter - lcl|scaffold_97:155501   6.0415433E7    30.0 s       0.0 s       14.8%     3.4 m       2.9 m \n",
      "INFO  16:00:55,361 ProgressMeter - lcl|scaffold_199:403701   1.23521639E8    60.0 s       0.0 s       30.2%     3.3 m       2.3 m \n",
      "INFO  16:01:25,369 ProgressMeter - lcl|scaffold_270:87801   1.82230121E8    90.0 s       0.0 s       44.6%     3.4 m     111.0 s \n",
      "INFO  16:01:55,382 ProgressMeter - lcl|scaffold_628:76601   2.4645985E8   120.0 s       0.0 s       60.3%     3.3 m      79.0 s \n",
      "INFO  16:02:25,407 ProgressMeter - lcl|scaffold_943:99901   3.09469534E8     2.5 m       0.0 s       75.7%     3.3 m      48.0 s \n",
      "INFO  16:02:55,412 ProgressMeter - lcl|scaffold_1551:33201   3.73229032E8     3.0 m       0.0 s       91.2%     3.3 m      17.0 s \n",
      "INFO  16:03:12,061 ProgressMeter -            done   4.09173694E8     3.3 m       0.0 s      100.0%     3.3 m       0.0 s \n",
      "INFO  16:03:12,062 ProgressMeter - Total runtime 196.79 secs, 3.28 min, 0.05 hours \n",
      "------------------------------------------------------------------------------------------\n",
      "Done. There were no warn messages.\n",
      "------------------------------------------------------------------------------------------\n"
     ]
    }
   ],
   "source": [
    "## symlink to the jar file of GATK 3.8, cuz I have two GATK installs now\n",
    "ln -s /usr/local/Cellar/GenomeAnalysisTK-3.8/GenomeAnalysisTK.jar GenomeAnalysisTK.jar\n",
    "\n",
    "\n",
    "## does it work?\n",
    "\n",
    "reference=\"/Users/danthomas/Documents/naiandinus_gen/Luteus_genome/Mimulus_luteus.fasta\"\n",
    "vcf=\"/Users/danthomas/Documents/naiandinus_gen/Mll_x_MN.merged.ver0.1.vcf\"\n",
    "output=\"/Users/danthomas/Documents/naiandinus_gen/Mn_v0.1.fasta\"\n",
    "\n",
    "java -jar GenomeAnalysisTK.jar -T FastaAlternateReferenceMaker -R $reference -o $output -V $vcf"
   ]
  },
  {
   "cell_type": "markdown",
   "metadata": {},
   "source": [
    "## <a id=\"gencov\">Making a map of genome coverage</a>"
   ]
  },
  {
   "cell_type": "markdown",
   "metadata": {},
   "source": [
    "### <a id=\"bigCov\">Make overall coverage map</a>"
   ]
  },
  {
   "cell_type": "markdown",
   "metadata": {},
   "source": [
    "Since we are defaulting to a foreign genome when the information from our hybrid reads is lacking, we should be ready to check on the number reads (\"read depth\") we have for any region of interest. Let's go brute force, and make a BP-by-BP map. To do this we'll use yet another set of tools, the [bedtools suite](http://bedtools.readthedocs.io/en/latest/content/bedtools-suite.html), specifically the [genomecov](http://bedtools.readthedocs.io/en/latest/content/tools/genomecov.html) tool. "
   ]
  },
  {
   "cell_type": "code",
   "execution_count": null,
   "metadata": {},
   "outputs": [],
   "source": [
    "## shortcut to our BAM\n",
    "mergedBAM=/Users/danthomas/Documents/naiandinus_gen/BAM/Mll_x_MN.merged.bam\n",
    "\n",
    "## make the map\n",
    "bedtools genomecov -ibam $mergedBAM -d > MllxMna_genome_cov_BP.txt"
   ]
  },
  {
   "cell_type": "markdown",
   "metadata": {},
   "source": [
    "The result is a massive file, that gives the number of reads that cover each base pair:"
   ]
  },
  {
   "cell_type": "code",
   "execution_count": 19,
   "metadata": {
    "scrolled": false
   },
   "outputs": [
    {
     "name": "stdout",
     "output_type": "stream",
     "text": [
      "-rw-r--r--  1 danthomas  staff    10G Apr 29 13:00 MllxMna_genome_cov_BP.txt\n"
     ]
    }
   ],
   "source": [
    "ls -lh MllxMna_genome_cov_BP.txt "
   ]
  },
  {
   "cell_type": "code",
   "execution_count": 20,
   "metadata": {},
   "outputs": [
    {
     "name": "stdout",
     "output_type": "stream",
     "text": [
      "lcl|scaffold_32\t1\t0\n",
      "lcl|scaffold_32\t2\t1\n",
      "lcl|scaffold_32\t3\t2\n",
      "lcl|scaffold_32\t4\t2\n",
      "lcl|scaffold_32\t5\t2\n",
      "lcl|scaffold_32\t6\t4\n",
      "lcl|scaffold_32\t7\t4\n",
      "lcl|scaffold_32\t8\t4\n",
      "lcl|scaffold_32\t9\t5\n",
      "lcl|scaffold_32\t10\t6\n",
      "lcl|scaffold_32\t11\t6\n",
      "lcl|scaffold_32\t12\t7\n",
      "lcl|scaffold_32\t13\t8\n",
      "lcl|scaffold_32\t14\t10\n",
      "lcl|scaffold_32\t15\t10\n"
     ]
    }
   ],
   "source": [
    "head -n 15 MllxMna_genome_cov_BP.txt "
   ]
  },
  {
   "cell_type": "markdown",
   "metadata": {},
   "source": [
    "### <a id=\"subScaff\">Subset coverage map to scaffolds of interest</a>"
   ]
  },
  {
   "cell_type": "markdown",
   "metadata": {},
   "source": [
    "Since this is so massive, let's subset to just areas we're interested in. How can we pull out scaffolds we're interested in? Lately, we are most interested in the pla2 locus, which is on scaffold 26...let's pull that out."
   ]
  },
  {
   "cell_type": "code",
   "execution_count": 21,
   "metadata": {},
   "outputs": [],
   "source": [
    "## mac os has a weird word boundry character for regex:\n",
    "sed -n '/scaffold_26[[:>:]]/p' MllxMna_genome_cov_BP.txt > scaffold_coverages/Mna_scaffold_26_coverage.tsv"
   ]
  },
  {
   "cell_type": "code",
   "execution_count": 24,
   "metadata": {
    "scrolled": true
   },
   "outputs": [
    {
     "name": "stdout",
     "output_type": "stream",
     "text": [
      "lcl|scaffold_26\t1\t0\n",
      "lcl|scaffold_26\t2\t0\n",
      "lcl|scaffold_26\t3\t0\n",
      "lcl|scaffold_26\t4\t0\n",
      "lcl|scaffold_26\t5\t0\n",
      "lcl|scaffold_26\t6\t0\n",
      "lcl|scaffold_26\t7\t0\n",
      "lcl|scaffold_26\t8\t0\n",
      "lcl|scaffold_26\t9\t0\n",
      "lcl|scaffold_26\t10\t0\n",
      "lcl|scaffold_26\t830788\t5\n",
      "lcl|scaffold_26\t830789\t5\n",
      "lcl|scaffold_26\t830790\t5\n",
      "lcl|scaffold_26\t830791\t2\n",
      "lcl|scaffold_26\t830792\t2\n",
      "lcl|scaffold_26\t830793\t1\n",
      "lcl|scaffold_26\t830794\t1\n",
      "lcl|scaffold_26\t830795\t0\n",
      "lcl|scaffold_26\t830796\t0\n",
      "lcl|scaffold_26\t830797\t0\n"
     ]
    }
   ],
   "source": [
    "cd /Users/danthomas/Documents/naiandinus_gen/scaffold_coverages\n",
    "\n",
    "head Mna_scaffold_26_coverage.tsv\n",
    "tail Mna_scaffold_26_coverage.tsv"
   ]
  },
  {
   "cell_type": "markdown",
   "metadata": {},
   "source": [
    "## <a id=\"subGen\">Subset <i>M. naiandinus</i> genome to just scaffolds of interest</a>"
   ]
  },
  {
   "cell_type": "markdown",
   "metadata": {},
   "source": [
    "While we we're at it, let's pull out the sequences themselves from these areas of interest. For scaffold 26, for example. \n",
    "\n",
    "First we have to find the contig(s) in our new <i>M. naiandinus</i> genome that correspond to scaffold 26:"
   ]
  },
  {
   "cell_type": "code",
   "execution_count": 27,
   "metadata": {},
   "outputs": [
    {
     "name": "stdout",
     "output_type": "stream",
     "text": [
      ">21 lcl|scaffold_26:1\n"
     ]
    }
   ],
   "source": [
    "cd /Users/danthomas/Documents/naiandinus_gen\n",
    "grep \"scaffold_26:\" Mn_v0.1.fasta"
   ]
  },
  {
   "cell_type": "markdown",
   "metadata": {},
   "source": [
    "So contig 21 is our stand in for scaffold 26. Let's make a local [blast](https://blast.ncbi.nlm.nih.gov/Blast.cgi) database of our new genome, and pull out this contig. "
   ]
  },
  {
   "cell_type": "code",
   "execution_count": 28,
   "metadata": {
    "scrolled": true
   },
   "outputs": [
    {
     "name": "stdout",
     "output_type": "stream",
     "text": [
      ">21 lcl|scaffold_26:1\n",
      "GTGCGGCTCAAGTTTACGCGCGGCTTTATGTTTCTCGCAACCCCTTGGTTCATAGTCCATCCTTGCACCAGTGTAAAGTC\n",
      "TTACCTGTATAAGAAACCAATACATATATACTTGATTAAAATTATTATCCTTTTCCATTTTTCTTATTCCTGTCTCTTAT\n",
      "ACACATCTAGATGTGTATAAGAGACAGGGTTCATAGTCCATCCTTGCACCAGTGTAAAGTCTTACCTGTATAAGAAACCA\n",
      "ATACATATACTTGATTAAAATATTTATCCTTTCCATTTTTCTTATTCTCTTGAAGATTCTTGTTGTAATAATATCAAGAA\n",
      "AAAAGAGAAGAACACTTACATTCTGAGGACCAATCAGCTCCAAGAGATGTCCGTCATCGTTTTTTGTGCTTGGAAGCTTA\n",
      "AGGGACCATGGAGAATTTACTAGTTTCCATTCTGAATCTGCAAACTCAGCTAGTGTACACGTTTCCCCTGAATTAAAAAG\n",
      "GCCAATCGCAGCTTTTCTTCTACATTCTTTCTTCCCCTTCGATCTCTCCAAATCCCTGTGAATGAGGCCATCCAAACACA\n",
      "TTAAATTTGTTAAAACCAAAACCATCTTCAAGAAAATCCAAGGAAATATGTACACAAACTTCAAATACCTCATTTGTAGG\n",
      "CTGAGCACTTGATTTCCATCCTCGTCAACCACACGAGTCCAACTCTTAGTAAATTGAGGCAGTGGGAACAAACAAGAACT\n"
     ]
    }
   ],
   "source": [
    "## make our database\n",
    "makeblastdb -in Mn_v0.1.fasta -parse_seqids -dbtype nucl\n",
    "\n",
    "## pull out contig 21 / scaffold 26\n",
    "blastdbcmd -entry 21 -db Mn_v0.1.fasta | head"
   ]
  },
  {
   "cell_type": "markdown",
   "metadata": {},
   "source": [
    "Looks right. Write it out."
   ]
  },
  {
   "cell_type": "code",
   "execution_count": null,
   "metadata": {},
   "outputs": [],
   "source": [
    "## pull out contig 21 / scaffold 26\n",
    "blastdbcmd -entry 21 -db Mn_v0.1.fasta > Mna_scaffold_26.fasta"
   ]
  },
  {
   "cell_type": "markdown",
   "metadata": {},
   "source": [
    "## <a id=\"spotcheck\">Spot check: polymorphism in pla2</a>"
   ]
  },
  {
   "cell_type": "markdown",
   "metadata": {},
   "source": [
    "Andreas and Arielle recently targeted the Myb3a gene of <i>M. naiandinus</i> using primers designed from <i>M. luteus</i>. They compared their resulting sanger sequences to the <i>M. naiandinus</i> draft genome and the <i>M. luteus</i> genome in the pla2 locus. They found a SNP between <i>M. luteus</i> and <i>M. naiandinus</i> not detected in the draft genome created above, at BP 147,678 in our scaffold 26. The <i>M. luteus</i> genome and draft <i>M. naiandinus</i> genome both have a G at this locus, but the sanger sequences of <i>M. naiandinus</i> show a T there:"
   ]
  },
  {
   "cell_type": "markdown",
   "metadata": {},
   "source": [
    "![SNP](Andreas_SNP.png)"
   ]
  },
  {
   "cell_type": "markdown",
   "metadata": {},
   "source": [
    "So how come our variant calling procedure didn't pick this up? We can look for this variant in our VCF..."
   ]
  },
  {
   "cell_type": "code",
   "execution_count": 33,
   "metadata": {},
   "outputs": [],
   "source": [
    "## shortcut to vcf\n",
    "vcf=\"Mll_x_MN.merged.ver0.1.vcf\""
   ]
  },
  {
   "cell_type": "markdown",
   "metadata": {},
   "source": [
    "So let's get a regex that works...for example, our first variant:"
   ]
  },
  {
   "cell_type": "code",
   "execution_count": 37,
   "metadata": {
    "scrolled": false
   },
   "outputs": [
    {
     "name": "stdout",
     "output_type": "stream",
     "text": [
      "#CHROM\tPOS\tID\tREF\tALT\tQUAL\tFILTER\tINFO\tFORMAT\tS16\tS17\tS18\tS19\tS20\tS21\n",
      "lcl|scaffold_32\t209\t.\tG\tA\t210.56\t.\tAC=5;AF=0.417;AN=12;BaseQRankSum=0.340;ClippingRankSum=0.000;DP=20;ExcessHet=9.1645;FS=2.171;MLEAC=5;MLEAF=0.417;MQ=44.00;MQRankSum=0.000;QD=26.32;ReadPosRankSum=0.996;SOR=0.528\tGT:AD:DP:GQ:PL\t0/1:1,1:2:39:39,0,40\t0/0:2,0:2:6:0,6,92\t0/1:3,1:4:33:33,0,106\t0/1:3,1:4:33:33,0,124\t0/1:1,2:3:33:81,0,33\t0/1:3,2:5:62:62,0,118\n",
      "lcl|scaffold_32\t340\t.\tT\tC\t285.29\t.\tAC=6;AF=0.600;AN=10;BaseQRankSum=0.728;ClippingRankSum=0.000;DP=15;ExcessHet=7.2016;FS=0.000;MLEAC=6;MLEAF=0.600;MQ=44.00;MQRankSum=0.000;QD=25.36;ReadPosRankSum=-0.642;SOR=1.061\tGT:AD:DP:GQ:PL\t1/1:0,2:2:6:90,6,0\t0/1:2,1:3:36:36,0,81\t./.\t0/1:1,3:4:24:123,0,24\t0/1:1,1:2:38:38,0,39\t0/1:3,1:4:33:33,0,123\n"
     ]
    }
   ],
   "source": [
    "grep \"#CHROM\" $vcf -A 2"
   ]
  },
  {
   "cell_type": "markdown",
   "metadata": {},
   "source": [
    "We can find like this:"
   ]
  },
  {
   "cell_type": "code",
   "execution_count": 38,
   "metadata": {
    "scrolled": true
   },
   "outputs": [
    {
     "name": "stdout",
     "output_type": "stream",
     "text": [
      "lcl|scaffold_32\t209\t.\tG\tA\t210.56\t.\tAC=5;AF=0.417;AN=12;BaseQRankSum=0.340;ClippingRankSum=0.000;DP=20;ExcessHet=9.1645;FS=2.171;MLEAC=5;MLEAF=0.417;MQ=44.00;MQRankSum=0.000;QD=26.32;ReadPosRankSum=0.996;SOR=0.528\tGT:AD:DP:GQ:PL\t0/1:1,1:2:39:39,0,40\t0/0:2,0:2:6:0,6,92\t0/1:3,1:4:33:33,0,106\t0/1:3,1:4:33:33,0,124\t0/1:1,2:3:33:81,0,33\t0/1:3,2:5:62:62,0,118\n"
     ]
    }
   ],
   "source": [
    "grep scaffold_32\\\\t209\\\\t $vcf  ## nada"
   ]
  },
  {
   "cell_type": "markdown",
   "metadata": {},
   "source": [
    "Now try this in the neighborhood of where we know the variant is:"
   ]
  },
  {
   "cell_type": "code",
   "execution_count": 39,
   "metadata": {},
   "outputs": [
    {
     "name": "stdout",
     "output_type": "stream",
     "text": [
      "lcl|scaffold_26\t147085\t.\tCA\tC\t85.43\t.\tAC=4;AF=0.500;AN=8;BaseQRankSum=0.000;ClippingRankSum=0.000;DP=7;ExcessHet=0.1902;FS=0.000;MLEAC=4;MLEAF=0.500;MQ=43.30;MQRankSum=-1.036;QD=33.27;ReadPosRankSum=0.253;SOR=2.780\tGT:AD:DP:GQ:PL\t./.\t0/0:1,0:1:3:0,3,81\t0/0:1,0:1:3:0,3,81\t1/1:0,1:1:3:36,3,0\t1/1:0,2:2:6:90,6,0\t./.\n",
      "lcl|scaffold_26\t147099\t.\tT\tA\t60.01\t.\tAC=2;AF=0.333;AN=6;BaseQRankSum=-0.842;ClippingRankSum=0.000;DP=5;ExcessHet=0.4576;FS=0.000;MLEAC=2;MLEAF=0.333;MQ=43.02;MQRankSum=-1.645;QD=30.01;ReadPosRankSum=1.282;SOR=2.204\tGT:AD:DP:GQ:PL\t./.\t0/0:2,0:2:6:0,6,126\t0/0:1,0:1:3:0,3,81\t./.\t1/1:0,2:2:6:90,6,0\t./.\n",
      "lcl|scaffold_26\t147792\t.\tC\tT\t132.53\t.\tAC=3;AF=0.300;AN=10;BaseQRankSum=0.431;ClippingRankSum=0.000;DP=12;ExcessHet=0.7918;FS=0.000;MLEAC=3;MLEAF=0.300;MQ=42.58;MQRankSum=-0.464;QD=26.51;ReadPosRankSum=0.731;SOR=0.169\tGT:AD:DP:GQ:PL\t0/0:1,0:1:3:0,3,37\t0/0:5,0:5:15:0,15,216\t1/1:0,2:2:6:90,6,0\t0/0:1,0:1:3:0,3,45\t./.\t0/1:1,2:3:36:78,0,36\n",
      "lcl|scaffold_26\t147892\t.\tG\tC\t213.01\t.\tAC=5;AF=0.417;AN=12;BaseQRankSum=1.614;ClippingRankSum=0.000;DP=18;ExcessHet=0.3421;FS=0.000;MLEAC=5;MLEAF=0.417;MQ=42.89;MQRankSum=-1.008;QD=29.56;ReadPosRankSum=2.072;SOR=1.329\tGT:AD:DP:GQ:PL\t0/0:1,0:1:3:0,3,43\t0/0:5,0:5:15:0,15,210\t0/1:4,1:5:30:30,0,156\t0/0:2,0:2:6:0,6,76\t1/1:0,4:4:12:180,12,0\t1/1:0,1:1:3:45,3,0\n",
      "lcl|scaffold_26\t147926\t.\tG\tC\t211.26\t.\tAC=4;AF=0.400;AN=10;BaseQRankSum=0.405;ClippingRankSum=0.000;DP=13;ExcessHet=1.7609;FS=2.808;MLEAC=4;MLEAF=0.400;MQ=43.78;MQRankSum=-0.736;QD=25.63;ReadPosRankSum=0.917;SOR=1.229\tGT:AD:DP:GQ:PL\t./.\t0/0:2,0:2:6:0,6,87\t0/1:2,1:3:36:36,0,78\t0/0:2,0:2:6:0,6,90\t1/1:0,3:3:9:132,9,0\t0/1:1,2:3:36:81,0,36\n"
     ]
    }
   ],
   "source": [
    "grep scaffold_26\\\\t147[0-9][0-9][0-9]\\\\t $vcf"
   ]
  },
  {
   "cell_type": "markdown",
   "metadata": {},
   "source": [
    "Nada. Why not? Well, part of the answer may be explained [here](https://gatkforums.broadinstitute.org/gatk/discussion/6005/allele-depth-ad-is-lower-than-expected). The haplotypecaller has some strict cutoffs for calling differences as true variants. Its algorithms take read depth, base call qualities, and mapq qualities (the confidence in the alignment of a given basepair), and decides whether to consider a read informational. \n",
    "\n",
    "We can look at our very first variant call again as an example:"
   ]
  },
  {
   "cell_type": "code",
   "execution_count": 40,
   "metadata": {
    "scrolled": false
   },
   "outputs": [
    {
     "name": "stdout",
     "output_type": "stream",
     "text": [
      "#CHROM\tPOS\tID\tREF\tALT\tQUAL\tFILTER\tINFO\tFORMAT\tS16\tS17\tS18\tS19\tS20\tS21\n",
      "lcl|scaffold_32\t209\t.\tG\tA\t210.56\t.\tAC=5;AF=0.417;AN=12;BaseQRankSum=0.340;ClippingRankSum=0.000;DP=20;ExcessHet=9.1645;FS=2.171;MLEAC=5;MLEAF=0.417;MQ=44.00;MQRankSum=0.000;QD=26.32;ReadPosRankSum=0.996;SOR=0.528\tGT:AD:DP:GQ:PL\t0/1:1,1:2:39:39,0,40\t0/0:2,0:2:6:0,6,92\t0/1:3,1:4:33:33,0,106\t0/1:3,1:4:33:33,0,124\t0/1:1,2:3:33:81,0,33\t0/1:3,2:5:62:62,0,118\n"
     ]
    }
   ],
   "source": [
    "grep \"#CHROM\" $vcf -A 1"
   ]
  },
  {
   "cell_type": "markdown",
   "metadata": {},
   "source": [
    "5 of our 6 read groups have this site as heterozygous G/A. If we sum up, 20 reads were considered informational among the various read groups. So this site had pretty deep coverage, and just a few reads that were not considered useful. What was our coverage at the variant call site?"
   ]
  },
  {
   "cell_type": "code",
   "execution_count": 48,
   "metadata": {},
   "outputs": [
    {
     "name": "stdout",
     "output_type": "stream",
     "text": [
      "lcl|scaffold_32\t204\t27\n",
      "lcl|scaffold_32\t205\t25\n",
      "lcl|scaffold_32\t206\t24\n",
      "lcl|scaffold_32\t207\t23\n",
      "lcl|scaffold_32\t208\t23\n",
      "lcl|scaffold_32\t209\t22\n",
      "lcl|scaffold_32\t210\t21\n",
      "lcl|scaffold_32\t211\t20\n",
      "lcl|scaffold_32\t212\t20\n",
      "lcl|scaffold_32\t213\t20\n",
      "lcl|scaffold_32\t214\t20\n",
      "\n"
     ]
    }
   ],
   "source": [
    "scafcov=vis_cov/MllxMna_genome_cov_BP.txt\n",
    "grep scaffold_32\\\\t209\\\\t $scafcov -A 5 -B 5"
   ]
  },
  {
   "cell_type": "markdown",
   "metadata": {},
   "source": [
    "Looks like there was some loss of information, 22 reads covered the site but only 20 were informational."
   ]
  },
  {
   "cell_type": "markdown",
   "metadata": {},
   "source": [
    "And what was our coverage at Andreas's SNP site in pla2?"
   ]
  },
  {
   "cell_type": "code",
   "execution_count": 45,
   "metadata": {
    "scrolled": false
   },
   "outputs": [
    {
     "name": "stdout",
     "output_type": "stream",
     "text": [
      "lcl|scaffold_26\t147673\t8\n",
      "lcl|scaffold_26\t147674\t8\n",
      "lcl|scaffold_26\t147675\t7\n",
      "lcl|scaffold_26\t147676\t7\n",
      "lcl|scaffold_26\t147677\t7\n",
      "lcl|scaffold_26\t147678\t7\n",
      "lcl|scaffold_26\t147679\t7\n",
      "lcl|scaffold_26\t147680\t7\n",
      "lcl|scaffold_26\t147681\t8\n",
      "lcl|scaffold_26\t147682\t8\n",
      "lcl|scaffold_26\t147683\t8\n"
     ]
    }
   ],
   "source": [
    "scaf26cov=/Users/danthomas/Documents/naiandinus_gen/scaffold_coverages/Mna_scaffold_26_coverage.tsv\n",
    "grep scaffold_26\\\\t147678\\\\t $scaf26cov -A 5 -B 5"
   ]
  },
  {
   "cell_type": "markdown",
   "metadata": {},
   "source": [
    "My best guess at this point is that we lacked the coverage (7 reads) and maybe the quality to give the haplotyper the confidence to call many of the variants. But as Josh has pointed out, we haven't actually looked at those reads that supposedly cover this area... samtools let us take a peek into the merged BAM file that we have, so we can see these reads:"
   ]
  },
  {
   "cell_type": "code",
   "execution_count": 6,
   "metadata": {
    "scrolled": true
   },
   "outputs": [
    {
     "name": "stdout",
     "output_type": "stream",
     "text": [
      "K00282:27:HC3GVBBXX:2:1109:1986:27971\t16\tlcl|scaffold_26\t147639\t44\t51M\t*\t0\t0\tGCTACAGATAATGTCGAGTACTGCAATGAAAATCACATGTTCGAAAAGAAC\tJJJFJFJJJJFJJFJJJJJJFJJFJJJJFJJJJJJJJJJJFFJJJJFFAAA\tMD:Z:51\tXG:i:0\tNM:i:0\tXM:i:0\tXN:i:0\tXO:i:0\tAS:i:102\tYT:Z:UU\tRG:Z:27-7026D542\tPG:Z:MarkDuplicates-203924BB\n",
      "K00282:27:HC3GVBBXX:2:2225:8156:21887\t16\tlcl|scaffold_26\t147641\t44\t51M\t*\t0\t0\tTACAGATAATGTCGAGTACTGCAATGAAAATCACATGTTCGAAAAGAACCC\tJJJJJJJJJJJJJJJJJJJJJJJJJJJJJJJJJJFJJJJJJJJJJJFFFAA\tMD:Z:51\tXG:i:0\tNM:i:0\tXM:i:0\tXN:i:0\tXO:i:0\tAS:i:102\tYT:Z:UU\tRG:Z:27-7B4F811C\tPG:Z:MarkDuplicates-26667DE3\n",
      "K00282:27:HC3GVBBXX:2:2223:27874:28692\t16\tlcl|scaffold_26\t147644\t44\t51M\t*\t0\t0\tAGATAATGTCGAGTACTGCAATGAAAATCACATGTTCGAAAAGAACCCATC\tJJJJJJJJJJJJJJJJJJJJJJJJJJJJJJJJJJJJJJJJJJJJJJFFFAA\tMD:Z:51\tXG:i:0\tNM:i:0\tXM:i:0\tXN:i:0\tXO:i:0\tAS:i:102\tYT:Z:UU\tRG:Z:27-4A2064A6\tPG:Z:MarkDuplicates-5693B18F\n",
      "K00282:27:HC3GVBBXX:2:1205:4980:35901\t16\tlcl|scaffold_26\t147651\t44\t51M\t*\t0\t0\tGTCGAGTACTGCAATGAAAATCACATGTTCGAAAAGAACCCATCTGATTTC\tJJJJJJJJJJJJJJJJJJJJJJFJJJJJJJJJJJJJJFJJJJJJJJAFFAA\tMD:Z:51\tXG:i:0\tNM:i:0\tXM:i:0\tXN:i:0\tXO:i:0\tAS:i:102\tYT:Z:UU\tRG:Z:27-4A2064A6\tPG:Z:MarkDuplicates-5693B18F\n",
      "K00282:27:HC3GVBBXX:2:2119:19827:17491\t0\tlcl|scaffold_26\t147662\t44\t51M\t*\t0\t0\tCAATGAAAATCACATGTTCGAAAAGAACCCATCTGATTTCTTATTGTCTGG\tAAFFFJJJJJJJJJJJJJJJJJJJJJJJJJJJJJJJJJJJJJJJJJJJJJJ\tMD:Z:46G4\tXG:i:0\tNM:i:1\tXM:i:1\tXN:i:0\tXO:i:0\tAS:i:94\tYT:Z:UU\tRG:Z:27-587F2321\tPG:Z:MarkDuplicates-66D4A1F0\n",
      "K00282:27:HC3GVBBXX:2:1206:24667:17298\t0\tlcl|scaffold_26\t147664\t44\t51M\t*\t0\t0\tATGAAAATCACATGTTCGAAAAGAACCCATCTGATTTCTTATTGGCTGGGC\tAAA<FJAJJFJJJJJJJJFJJFJJJFJJJJJJJ<AFJJJJJJJFFJJJJJJ\tMD:Z:51\tXG:i:0\tNM:i:0\tXM:i:0\tXN:i:0\tXO:i:0\tAS:i:102\tYT:Z:UU\tRG:Z:27-14DDA44F\tPG:Z:MarkDuplicates-6B2D5053\n",
      "K00282:27:HC3GVBBXX:2:1204:12215:6835\t16\tlcl|scaffold_26\t147670\t44\t51M\t*\t0\t0\tATCACATGTTCGAAAAGAACCCATCTGATTTCTTATTGGCTGGGCCAATTA\tJFJJJJJFAJJJJJJJJA7JJJJJJJJJJJJJJJJJJJJJFJJJJJFFAAA\tMD:Z:51\tXG:i:0\tNM:i:0\tXM:i:0\tXN:i:0\tXO:i:0\tAS:i:102\tYT:Z:UU\tRG:Z:27-14DDA44F\tPG:Z:MarkDuplicates-6B2D5053\n",
      "K00282:27:HC3GVBBXX:2:2114:31121:48315\t0\tlcl|scaffold_26\t147681\t44\t51M\t*\t0\t0\tGAAAAGAACCCATCTGATTTCTTATTGGCTGGGCCAATTAACGATCATTAT\tAAFFFJJJJJJJJJJJJJJJJJJJJJJJJJJJJJJJJJJJJJJJJJJJJJJ\tMD:Z:51\tXG:i:0\tNM:i:0\tXM:i:0\tXN:i:0\tXO:i:0\tAS:i:102\tYT:Z:UU\tRG:Z:27\tPG:Z:MarkDuplicates\n"
     ]
    }
   ],
   "source": [
    "cd /Users/danthomas/Documents/naiandinus_gen/BAM\n",
    "samtools view Mll_x_MN.merged.bam  \"lcl|scaffold_26:147676-147682\" "
   ]
  },
  {
   "cell_type": "markdown",
   "metadata": {},
   "source": [
    "This generally agrees with our coverage map. But where is our SNP in these? Cut this down to just the sequences, and grep out the SNP region:"
   ]
  },
  {
   "cell_type": "code",
   "execution_count": 7,
   "metadata": {
    "scrolled": true
   },
   "outputs": [
    {
     "name": "stdout",
     "output_type": "stream",
     "text": [
      "GCTACAGATAATGTCGAGTACTGCAATGAAAATCACATGTTCGAAAAGAAC\u001b[01;31m\u001b[K\u001b[m\u001b[K\n",
      "TACAGATAATGTCGAGTACTGCAATGAAAATCACATGTTCGAAAAGAACCC\u001b[01;31m\u001b[K\u001b[m\u001b[K\n",
      "AGATAATGTCGAGTACTGCAATGAAAATCACATGTTCGAAAAGAACCCATC\u001b[01;31m\u001b[K\u001b[m\u001b[K\n",
      "GTCGAGTACTGCAATGAAAATCACATGTTCGAAAAGAACCCATCTGATTTC\u001b[01;31m\u001b[K\u001b[m\u001b[K\n",
      "CAATGAAAATCACATGTTCGAAAAGAACCCATCTGATTTCTTA\u001b[01;31m\u001b[KTTGTCTG\u001b[m\u001b[KG\u001b[01;31m\u001b[K\u001b[m\u001b[K\n",
      "ATGAAAATCACATGTTCGAAAAGAACCCATCTGATTTCTTA\u001b[01;31m\u001b[KTTGGCTG\u001b[m\u001b[KGGC\u001b[01;31m\u001b[K\u001b[m\u001b[K\n",
      "ATCACATGTTCGAAAAGAACCCATCTGATTTCTTA\u001b[01;31m\u001b[KTTGGCTG\u001b[m\u001b[KGGCCAATTA\u001b[01;31m\u001b[K\u001b[m\u001b[K\n",
      "GAAAAGAACCCATCTGATTTCTTA\u001b[01;31m\u001b[KTTGGCTG\u001b[m\u001b[KGGCCAATTAACGATCATTAT\u001b[01;31m\u001b[K\u001b[m\u001b[K\n"
     ]
    }
   ],
   "source": [
    "cd /Users/danthomas/Documents/naiandinus_gen/BAM\n",
    "samtools view Mll_x_MN.merged.bam  \"lcl|scaffold_26:147676-147682\" | cut -f 10 | grep -E \"TTG.CTG|$\""
   ]
  },
  {
   "cell_type": "markdown",
   "metadata": {},
   "source": [
    "Huh, only four of our reads seem to have that locus in them, really. And of these, have the \"T\" base pair that we found in Andreas' sequence. \n"
   ]
  }
 ],
 "metadata": {
  "kernelspec": {
   "display_name": "Bash",
   "language": "bash",
   "name": "bash"
  },
  "language_info": {
   "codemirror_mode": "shell",
   "file_extension": ".sh",
   "mimetype": "text/x-sh",
   "name": "bash"
  }
 },
 "nbformat": 4,
 "nbformat_minor": 2
}
